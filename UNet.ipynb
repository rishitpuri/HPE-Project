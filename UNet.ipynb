{
 "cells": [
  {
   "cell_type": "code",
   "execution_count": 8,
   "metadata": {
    "gather": {
     "logged": 1631870847325
    }
   },
   "outputs": [],
   "source": [
    "from __future__ import print_function\n",
    "\n",
    "import os\n",
    "import numpy as np\n",
    "\n",
    "import tensorflow\n",
    "from tensorflow import keras\n",
    "from tensorflow.keras.callbacks import History\n",
    "from tensorflow.keras.models import Model\n",
    "from tensorflow.keras.layers import Input, Add, concatenate, Activation, BatchNormalization, Conv2D, MaxPooling2D, Conv2DTranspose, UpSampling2D\n",
    "from tensorflow.keras.optimizers import Adam, SGD\n",
    "from tensorflow.keras.callbacks import ModelCheckpoint, EarlyStopping, CSVLogger\n",
    "import tensorflow.keras.backend as K"
   ]
  },
  {
   "cell_type": "code",
   "execution_count": 9,
   "metadata": {
    "gather": {
     "logged": 1631870849251
    },
    "jupyter": {
     "outputs_hidden": false,
     "source_hidden": false
    },
    "nteract": {
     "transient": {
      "deleting": false
     }
    }
   },
   "outputs": [
    {
     "name": "stdout",
     "output_type": "stream",
     "text": [
      "2.1.0\n",
      "2.2.4-tf\n"
     ]
    }
   ],
   "source": [
    "print(tensorflow.__version__)\n",
    "print(tensorflow.keras.__version__)"
   ]
  },
  {
   "cell_type": "code",
   "execution_count": 10,
   "metadata": {
    "gather": {
     "logged": 1631870850970
    },
    "jupyter": {
     "outputs_hidden": false,
     "source_hidden": false
    },
    "nteract": {
     "transient": {
      "deleting": false
     }
    }
   },
   "outputs": [],
   "source": [
    "keras.backend.set_image_data_format('channels_last')  \n",
    "\n",
    "img_rows = 240\n",
    "img_cols = 240\n",
    "smooth = 1."
   ]
  },
  {
   "cell_type": "code",
   "execution_count": 11,
   "metadata": {
    "gather": {
     "logged": 1631870851969
    },
    "jupyter": {
     "outputs_hidden": false,
     "source_hidden": false
    },
    "nteract": {
     "transient": {
      "deleting": false
     }
    }
   },
   "outputs": [],
   "source": [
    "def dice_coeff(y_true, y_pred):\n",
    "    y_true_f = keras.backend.flatten(y_true)\n",
    "    y_pred_f = keras.backend.flatten(y_pred)\n",
    "    intersection = keras.backend.sum(y_true_f * y_pred_f)\n",
    "    return (2. * intersection + smooth) / (K.sum(y_true_f) + K.sum(y_pred_f) + smooth)\n",
    "\n",
    "\n",
    "def dice_coeff_loss(y_true, y_pred):\n",
    "    return -dice_coeff(y_true, y_pred)"
   ]
  },
  {
   "cell_type": "code",
   "execution_count": 12,
   "metadata": {
    "gather": {
     "logged": 1631870852514
    },
    "jupyter": {
     "outputs_hidden": false,
     "source_hidden": false
    },
    "nteract": {
     "transient": {
      "deleting": false
     }
    }
   },
   "outputs": [],
   "source": [
    "def DoubleConv2D(n_filters, input, activation='relu', padding='same'):\n",
    "    conv_output_a = Conv2D(n_filters, (3, 3), padding = padding)(input)\n",
    "    bnorm_a = BatchNormalization()(conv_output_a)\n",
    "    activated_a = Activation(activation)(bnorm_a)\n",
    "    conv_output_b = Conv2D(n_filters, (3, 3), padding = padding)(activated_a)\n",
    "    bnorm_b = BatchNormalization()(conv_output_b)\n",
    "    activated_b = Activation(activation)(bnorm_b)\n",
    "    return activated_b\n",
    "\n",
    "def ContractingBlock2D(n_filters, input):\n",
    "    double_conv_output = DoubleConv2D(n_filters, input)\n",
    "    pool = MaxPooling2D(pool_size=(2, 2))(double_conv_output)\n",
    "    return double_conv_output, pool\n",
    "\n",
    "def ExpandingBlock2D(n_filters, upconv_input, concat_input):\n",
    "    upsamp = Conv2DTranspose(n_filters, (2, 2), strides=(2, 2), padding = 'same')(upconv_input)\n",
    "    conv_input = concatenate([upsamp, concat_input], axis=3)\n",
    "    double_conv_output = DoubleConv2D(n_filters, conv_input)\n",
    "    return double_conv_output \n",
    "\n",
    "def UNet():\n",
    "    input_tensor = Input((img_rows, img_cols, 1))\n",
    "\n",
    "    conv_1, pool_1 = ContractingBlock2D(32, input_tensor)\n",
    "    conv_2, pool_2 = ContractingBlock2D(64, pool_1)\n",
    "    conv_3, pool_3 = ContractingBlock2D(128, pool_2)\n",
    "    conv_4, pool_4 = ContractingBlock2D(256, pool_3)\n",
    "\n",
    "    conv_5 = DoubleConv2D(512, pool_4)\n",
    "\n",
    "    conv_6 = ExpandingBlock2D(256, conv_5, conv_4)\n",
    "    conv_7 = ExpandingBlock2D(128, conv_6, conv_3)\n",
    "    conv_8 = ExpandingBlock2D(64, conv_7, conv_2)\n",
    "    conv_9 = ExpandingBlock2D(32, conv_8, conv_1)\n",
    "\n",
    "    conv_10 = Conv2D(1, (1, 1), activation = 'sigmoid')(conv_9)\n",
    "\n",
    "    model = Model(inputs = [input_tensor], outputs = [conv_10])\n",
    "    return model"
   ]
  },
  {
   "cell_type": "code",
   "execution_count": 13,
   "metadata": {
    "gather": {
     "logged": 1631870855120
    },
    "jupyter": {
     "outputs_hidden": false,
     "source_hidden": false
    },
    "nteract": {
     "transient": {
      "deleting": false
     }
    }
   },
   "outputs": [],
   "source": [
    "model = UNet()"
   ]
  },
  {
   "cell_type": "code",
   "execution_count": 14,
   "metadata": {
    "gather": {
     "logged": 1631870860366
    },
    "jupyter": {
     "outputs_hidden": false,
     "source_hidden": false
    },
    "nteract": {
     "transient": {
      "deleting": false
     }
    }
   },
   "outputs": [],
   "source": [
    "model.compile(optimizer = Adam(learning_rate = 1e-3), loss = dice_coeff_loss, metrics = [dice_coeff])"
   ]
  },
  {
   "cell_type": "code",
   "execution_count": 16,
   "metadata": {
    "gather": {
     "logged": 1631870868295
    },
    "jupyter": {
     "outputs_hidden": false,
     "source_hidden": false
    },
    "nteract": {
     "transient": {
      "deleting": false
     }
    }
   },
   "outputs": [],
   "source": [
    "model_ckpt = ModelCheckpoint('final_unet_weights.h5', monitor='val_loss', save_best_only=True)\n",
    "early_stop = EarlyStopping(monitor = 'val_loss', patience = 5)\n",
    "csv_logger = CSVLogger('training.log')"
   ]
  },
  {
   "cell_type": "code",
   "execution_count": 17,
   "metadata": {
    "gather": {
     "logged": 1631870903410
    },
    "jupyter": {
     "outputs_hidden": false,
     "source_hidden": false
    },
    "nteract": {
     "transient": {
      "deleting": false
     }
    }
   },
   "outputs": [],
   "source": [
    "imgs_train = np.load('imgs_train.npy').astype('float32') #[:2945,:,:].astype('float32')\n",
    "masks_train = np.load('masks_train.npy').astype('float32') #[:2945,:,:].astype('float32')\n",
    "\n",
    "imgs_train = np.reshape(imgs_train, (imgs_train.shape[0], img_rows, img_cols, 1))\n",
    "masks_train = np.reshape(masks_train, (masks_train.shape[0], img_rows, img_cols, 1))"
   ]
  },
  {
   "cell_type": "code",
   "execution_count": 18,
   "metadata": {
    "gather": {
     "logged": 1631870905813
    },
    "jupyter": {
     "outputs_hidden": false,
     "source_hidden": false
    },
    "nteract": {
     "transient": {
      "deleting": false
     }
    }
   },
   "outputs": [],
   "source": [
    "mean = np.mean(imgs_train)\n",
    "std = np.std(imgs_train)"
   ]
  },
  {
   "cell_type": "code",
   "execution_count": 19,
   "metadata": {
    "gather": {
     "logged": 1631870906726
    },
    "jupyter": {
     "outputs_hidden": false,
     "source_hidden": false
    },
    "nteract": {
     "transient": {
      "deleting": false
     }
    }
   },
   "outputs": [],
   "source": [
    "imgs_train -= mean\n",
    "imgs_train /= std"
   ]
  },
  {
   "cell_type": "code",
   "execution_count": 20,
   "metadata": {
    "gather": {
     "logged": 1631815568314
    },
    "jupyter": {
     "outputs_hidden": false,
     "source_hidden": false
    },
    "nteract": {
     "transient": {
      "deleting": false
     }
    }
   },
   "outputs": [
    {
     "name": "stdout",
     "output_type": "stream",
     "text": [
      "Train on 9184 samples, validate on 2297 samples\n",
      "Epoch 1/20\n",
      "9184/9184 [==============================] - 3820s 416ms/sample - loss: -0.1259 - dice_coeff: 0.1260 - val_loss: -0.0856 - val_dice_coeff: 0.0856\b\b\b\b\b\b\b\b\b\b\b\b\b\b\b\b\b\b\b\b\b\b\b\b\b\b\b\b\b\b\b\b\b\b\b\b\b\b\b\b\b\b\b\n",
      "Epoch 2/20\n",
      "9184/9184 [==============================] - 3816s 415ms/sample - loss: -0.1818 - dice_coeff: 0.1819 - val_loss: -0.0591 - val_dice_coeff: 0.0590\b\b\b\b\b\b\b\b\b\b\b\b\b\b\b\b\b\b\b\b\b\b\b\b\b\b\b\b\b\b\b\b\b\b\b\b\b\b\b\n",
      "Epoch 3/20\n",
      "9184/9184 [==============================] - 3813s 415ms/sample - loss: -0.2777 - dice_coeff: 0.2778 - val_loss: -0.0697 - val_dice_coeff: 0.0697\b\b\b\b\b\b\b\b\b\b\b\b\b\b\b\b\b\b\b\b\b\b\b\b\b\b\b\b\b\b\b\b\b\b\b\b\b\b\b\n",
      "Epoch 4/20\n",
      "9184/9184 [==============================] - 3805s 414ms/sample - loss: -0.4055 - dice_coeff: 0.4056 - val_loss: -0.0796 - val_dice_coeff: 0.0796\b\b\b\b\b\b\b\b\b\b\b\b\b\b\b\b\b\b\b\b\b\b\b\b\b\b\b\b\b\b\b\b\b\b\b\b\b\b\b\n",
      "Epoch 5/20\n",
      "9184/9184 [==============================] - 3809s 415ms/sample - loss: -0.5217 - dice_coeff: 0.5219 - val_loss: -0.1409 - val_dice_coeff: 0.1409\b\b\b\b\b\b\b\b\b\b\b\b\b\b\b\b\b\b\b\b\b\b\b\b\b\b\b\b\b\b\b\b\b\b\b\b\b\b\b\n",
      "Epoch 6/20\n",
      "9184/9184 [==============================] - 3747s 408ms/sample - loss: -0.5959 - dice_coeff: 0.5961 - val_loss: -0.2959 - val_dice_coeff: 0.2959\b\b\b\b\b\b\b\b\b\b\b\b\b\b\b\b\b\b\b\b\b\b\b\b\b\b\b\b\b\b\b\b\b\b\b\b\b\b\b\n",
      "Epoch 7/20\n",
      "9184/9184 [==============================] - 3729s 406ms/sample - loss: -0.6458 - dice_coeff: 0.6458 - val_loss: -0.3555 - val_dice_coeff: 0.3556\b\b\b\b\b\b\b\b\b\b\b\b\b\b\b\b\b\b\b\b\b\b\b\b\b\b\b\b\b\b\b\b\b\b\b\b\b\b\b\n",
      "Epoch 8/20\n",
      "9184/9184 [==============================] - 3725s 406ms/sample - loss: -0.6813 - dice_coeff: 0.6814 - val_loss: -0.4324 - val_dice_coeff: 0.4325\b\b\b\b\b\b\b\b\b\b\b\b\b\b\b\b\b\b\b\b\b\b\b\b\b\b\b\b\b\b\b\b\b\b\b\b\b\b\b\n",
      "Epoch 9/20\n",
      "9184/9184 [==============================] - 3727s 406ms/sample - loss: -0.7048 - dice_coeff: 0.7049 - val_loss: -0.3765 - val_dice_coeff: 0.3766\b\b\b\b\b\b\b\b\b\b\b\b\b\b\b\b\b\b\b\b\b\b\b\b\b\b\b\b\b\b\b\b\b\b\b\b\b\b\b\n",
      "Epoch 10/20\n"
     ]
    }
   ],
   "source": [
    "history=model.fit(imgs_train, masks_train, batch_size=256, epochs=20, verbose=1, shuffle=True,\n",
    "              validation_split=0.2,\n",
    "              callbacks=[model_ckpt, early_stop, csv_logger])"
   ]
  },
  {
   "cell_type": "code",
   "execution_count": null,
   "metadata": {
    "jupyter": {
     "outputs_hidden": false,
     "source_hidden": false
    },
    "nteract": {
     "transient": {
      "deleting": false
     }
    }
   },
   "outputs": [],
   "source": []
  }
 ],
 "metadata": {
  "kernel_info": {
   "name": "python3-azureml"
  },
  "kernelspec": {
   "display_name": "Python 3",
   "language": "python",
   "name": "python3"
  },
  "language_info": {
   "codemirror_mode": {
    "name": "ipython",
    "version": 3
   },
   "file_extension": ".py",
   "mimetype": "text/x-python",
   "name": "python",
   "nbconvert_exporter": "python",
   "pygments_lexer": "ipython3",
   "version": "3.8.8"
  },
  "microsoft": {
   "host": {
    "AzureML": {
     "notebookHasBeenCompleted": true
    }
   }
  },
  "nteract": {
   "version": "nteract-front-end@1.0.0"
  }
 },
 "nbformat": 4,
 "nbformat_minor": 2
}
